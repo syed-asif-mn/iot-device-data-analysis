{
 "cells": [
  {
   "cell_type": "code",
   "execution_count": 1,
   "id": "ac0c1ae5",
   "metadata": {
    "execution": {
     "iopub.execute_input": "2023-02-15T17:26:09.933484Z",
     "iopub.status.busy": "2023-02-15T17:26:09.932941Z",
     "iopub.status.idle": "2023-02-15T17:27:40.143483Z",
     "shell.execute_reply": "2023-02-15T17:27:40.141900Z"
    },
    "id": "VCUAmm0hyplM",
    "outputId": "e061bfce-d442-4bac-e72a-75b8b218b48c",
    "papermill": {
     "duration": 90.224171,
     "end_time": "2023-02-15T17:27:40.147516",
     "exception": false,
     "start_time": "2023-02-15T17:26:09.923345",
     "status": "completed"
    },
    "tags": []
   },
   "outputs": [
    {
     "name": "stdout",
     "output_type": "stream",
     "text": [
      "/bin/bash: /opt/conda/lib/libtinfo.so.6: no version information available (required by /bin/bash)\r\n",
      "/bin/bash: /opt/conda/lib/libtinfo.so.6: no version information available (required by /bin/bash)\r\n",
      "/bin/bash: /opt/conda/lib/libtinfo.so.6: no version information available (required by /bin/bash)\r\n",
      "\u001b[33mWARNING: Running pip as the 'root' user can result in broken permissions and conflicting behaviour with the system package manager. It is recommended to use a virtual environment instead: https://pip.pypa.io/warnings/venv\u001b[0m\u001b[33m\r\n",
      "\u001b[0m/bin/bash: /opt/conda/lib/libtinfo.so.6: no version information available (required by /bin/bash)\r\n",
      "Collecting pyspark\r\n",
      "  Downloading pyspark-3.3.1.tar.gz (281.4 MB)\r\n",
      "\u001b[2K     \u001b[90m━━━━━━━━━━━━━━━━━━━━━━━━━━━━━━━━━━━━━━━\u001b[0m \u001b[32m281.4/281.4 MB\u001b[0m \u001b[31m3.2 MB/s\u001b[0m eta \u001b[36m0:00:00\u001b[0m\r\n",
      "\u001b[?25h  Preparing metadata (setup.py) ... \u001b[?25l-\b \bdone\r\n",
      "\u001b[?25hCollecting py4j==0.10.9.5\r\n",
      "  Downloading py4j-0.10.9.5-py2.py3-none-any.whl (199 kB)\r\n",
      "\u001b[2K     \u001b[90m━━━━━━━━━━━━━━━━━━━━━━━━━━━━━━━━━━━━━━\u001b[0m \u001b[32m199.7/199.7 kB\u001b[0m \u001b[31m14.4 MB/s\u001b[0m eta \u001b[36m0:00:00\u001b[0m\r\n",
      "\u001b[?25hBuilding wheels for collected packages: pyspark\r\n",
      "  Building wheel for pyspark (setup.py) ... \u001b[?25l-\b \b\\\b \b|\b \b/\b \b-\b \b\\\b \b|\b \b/\b \b-\b \b\\\b \b|\b \b/\b \b-\b \b\\\b \b|\b \b/\b \b-\b \b\\\b \b|\b \b/\b \b-\b \b\\\b \b|\b \b/\b \b-\b \b\\\b \b|\b \b/\b \b-\b \b\\\b \b|\b \b/\b \b-\b \b\\\b \b|\b \b/\b \b-\b \b\\\b \b|\b \b/\b \b-\b \b\\\b \b|\b \b/\b \b-\b \b\\\b \b|\b \b/\b \b-\b \b\\\b \b|\b \b/\b \b-\b \b\\\b \b|\b \b/\b \b-\b \b\\\b \b|\b \b/\b \b-\b \b\\\b \bdone\r\n",
      "\u001b[?25h  Created wheel for pyspark: filename=pyspark-3.3.1-py2.py3-none-any.whl size=281845513 sha256=3df35c566382fcad4c080a80c78bad1e489207cbd7af37f91d57c02fd0964cb8\r\n",
      "  Stored in directory: /root/.cache/pip/wheels/42/59/f5/79a5bf931714dcd201b26025347785f087370a10a3329a899c\r\n",
      "Successfully built pyspark\r\n",
      "Installing collected packages: py4j, pyspark\r\n",
      "  Attempting uninstall: py4j\r\n",
      "    Found existing installation: py4j 0.10.9.7\r\n",
      "    Uninstalling py4j-0.10.9.7:\r\n",
      "      Successfully uninstalled py4j-0.10.9.7\r\n",
      "Successfully installed py4j-0.10.9.5 pyspark-3.3.1\r\n",
      "\u001b[33mWARNING: Running pip as the 'root' user can result in broken permissions and conflicting behaviour with the system package manager. It is recommended to use a virtual environment instead: https://pip.pypa.io/warnings/venv\u001b[0m\u001b[33m\r\n",
      "\u001b[0m"
     ]
    }
   ],
   "source": [
    "!apt-get install openjdk-8-jdk-headless -qq > /dev/null\n",
    "!wget -nc -q https://downloads.apache.org/spark/spark-3.3.1/spark-3.3.1-bin-hadoop2.tgz\n",
    "!pip install -q findspark\n",
    "!pip install pyspark"
   ]
  },
  {
   "cell_type": "code",
   "execution_count": 2,
   "id": "c90493e2",
   "metadata": {
    "execution": {
     "iopub.execute_input": "2023-02-15T17:27:40.185182Z",
     "iopub.status.busy": "2023-02-15T17:27:40.184580Z",
     "iopub.status.idle": "2023-02-15T17:27:40.255070Z",
     "shell.execute_reply": "2023-02-15T17:27:40.253865Z"
    },
    "id": "j1QlLs4GyyiL",
    "papermill": {
     "duration": 0.093657,
     "end_time": "2023-02-15T17:27:40.258833",
     "exception": false,
     "start_time": "2023-02-15T17:27:40.165176",
     "status": "completed"
    },
    "tags": []
   },
   "outputs": [],
   "source": [
    "import findspark\n",
    "findspark.init()\n",
    "findspark.find()\n",
    "import pyspark\n",
    "from pyspark.sql import DataFrame, SparkSession\n",
    "from typing import List\n",
    "import pyspark.sql.types as T\n",
    "import pyspark.sql.functions as F"
   ]
  },
  {
   "cell_type": "code",
   "execution_count": 3,
   "id": "229ecb90",
   "metadata": {
    "execution": {
     "iopub.execute_input": "2023-02-15T17:27:40.300344Z",
     "iopub.status.busy": "2023-02-15T17:27:40.299347Z",
     "iopub.status.idle": "2023-02-15T17:27:47.962091Z",
     "shell.execute_reply": "2023-02-15T17:27:47.960765Z"
    },
    "id": "20WZjBWJy01y",
    "outputId": "02eb149f-59d3-4242-fdd8-808cc0c5a803",
    "papermill": {
     "duration": 7.684758,
     "end_time": "2023-02-15T17:27:47.965243",
     "exception": false,
     "start_time": "2023-02-15T17:27:40.280485",
     "status": "completed"
    },
    "tags": []
   },
   "outputs": [
    {
     "name": "stderr",
     "output_type": "stream",
     "text": [
      "bash: /opt/conda/lib/libtinfo.so.6: no version information available (required by bash)\n",
      "bash: /opt/conda/lib/libtinfo.so.6: no version information available (required by bash)\n",
      "Setting default log level to \"WARN\".\n",
      "To adjust logging level use sc.setLogLevel(newLevel). For SparkR, use setLogLevel(newLevel).\n"
     ]
    },
    {
     "name": "stdout",
     "output_type": "stream",
     "text": [
      "23/02/15 17:27:44 WARN NativeCodeLoader: Unable to load native-hadoop library for your platform... using builtin-java classes where applicable\n"
     ]
    },
    {
     "data": {
      "text/html": [
       "\n",
       "            <div>\n",
       "                <p><b>SparkSession - in-memory</b></p>\n",
       "                \n",
       "        <div>\n",
       "            <p><b>SparkContext</b></p>\n",
       "\n",
       "            <p><a href=\"http://9a493d8d2277:4040\">Spark UI</a></p>\n",
       "\n",
       "            <dl>\n",
       "              <dt>Version</dt>\n",
       "                <dd><code>v3.3.1</code></dd>\n",
       "              <dt>Master</dt>\n",
       "                <dd><code>local[*]</code></dd>\n",
       "              <dt>AppName</dt>\n",
       "                <dd><code>iot</code></dd>\n",
       "            </dl>\n",
       "        </div>\n",
       "        \n",
       "            </div>\n",
       "        "
      ],
      "text/plain": [
       "<pyspark.sql.session.SparkSession at 0x7f8ba40247d0>"
      ]
     },
     "execution_count": 3,
     "metadata": {},
     "output_type": "execute_result"
    }
   ],
   "source": [
    "spark = SparkSession \\\n",
    "       .builder \\\n",
    "       .appName(\"iot\") \\\n",
    "       .getOrCreate()\n",
    "\n",
    "spark"
   ]
  },
  {
   "cell_type": "markdown",
   "id": "c9e64806",
   "metadata": {
    "id": "yrnHrkKpzQvc",
    "papermill": {
     "duration": 0.017161,
     "end_time": "2023-02-15T17:27:48.000607",
     "exception": false,
     "start_time": "2023-02-15T17:27:47.983446",
     "status": "completed"
    },
    "tags": []
   },
   "source": [
    "**Read the data into a Dataframe**"
   ]
  },
  {
   "cell_type": "code",
   "execution_count": 4,
   "id": "a7db3e93",
   "metadata": {
    "execution": {
     "iopub.execute_input": "2023-02-15T17:27:48.037625Z",
     "iopub.status.busy": "2023-02-15T17:27:48.037078Z",
     "iopub.status.idle": "2023-02-15T17:27:56.827847Z",
     "shell.execute_reply": "2023-02-15T17:27:56.826207Z"
    },
    "id": "IqqJ2ZxLy6r9",
    "papermill": {
     "duration": 8.813143,
     "end_time": "2023-02-15T17:27:56.831012",
     "exception": false,
     "start_time": "2023-02-15T17:27:48.017869",
     "status": "completed"
    },
    "tags": []
   },
   "outputs": [
    {
     "name": "stderr",
     "output_type": "stream",
     "text": [
      "                                                                                \r"
     ]
    }
   ],
   "source": [
    "df = spark.read.json(\"/kaggle/input/iot-device-data\")"
   ]
  },
  {
   "cell_type": "code",
   "execution_count": 5,
   "id": "4a36330a",
   "metadata": {
    "execution": {
     "iopub.execute_input": "2023-02-15T17:27:56.869227Z",
     "iopub.status.busy": "2023-02-15T17:27:56.868395Z",
     "iopub.status.idle": "2023-02-15T17:27:56.908841Z",
     "shell.execute_reply": "2023-02-15T17:27:56.907503Z"
    },
    "id": "EhXWacU9zTih",
    "outputId": "1651fede-2e31-4f1d-8530-aaaffcd95a1b",
    "papermill": {
     "duration": 0.063069,
     "end_time": "2023-02-15T17:27:56.912041",
     "exception": false,
     "start_time": "2023-02-15T17:27:56.848972",
     "status": "completed"
    },
    "tags": []
   },
   "outputs": [
    {
     "name": "stdout",
     "output_type": "stream",
     "text": [
      "root\n",
      " |-- battery_level: long (nullable = true)\n",
      " |-- c02_level: long (nullable = true)\n",
      " |-- cca2: string (nullable = true)\n",
      " |-- cca3: string (nullable = true)\n",
      " |-- cn: string (nullable = true)\n",
      " |-- device_id: long (nullable = true)\n",
      " |-- device_name: string (nullable = true)\n",
      " |-- humidity: long (nullable = true)\n",
      " |-- ip: string (nullable = true)\n",
      " |-- latitude: double (nullable = true)\n",
      " |-- lcd: string (nullable = true)\n",
      " |-- longitude: double (nullable = true)\n",
      " |-- scale: string (nullable = true)\n",
      " |-- temp: long (nullable = true)\n",
      " |-- timestamp: long (nullable = true)\n",
      "\n"
     ]
    }
   ],
   "source": [
    "df.printSchema()"
   ]
  },
  {
   "cell_type": "code",
   "execution_count": 6,
   "id": "0b36a046",
   "metadata": {
    "execution": {
     "iopub.execute_input": "2023-02-15T17:27:56.950366Z",
     "iopub.status.busy": "2023-02-15T17:27:56.949882Z",
     "iopub.status.idle": "2023-02-15T17:27:57.756711Z",
     "shell.execute_reply": "2023-02-15T17:27:57.755005Z"
    },
    "id": "cqBOiD_LzY-e",
    "outputId": "7bdf9759-8947-415c-8311-73e80af64695",
    "papermill": {
     "duration": 0.829945,
     "end_time": "2023-02-15T17:27:57.760433",
     "exception": false,
     "start_time": "2023-02-15T17:27:56.930488",
     "status": "completed"
    },
    "tags": []
   },
   "outputs": [
    {
     "name": "stdout",
     "output_type": "stream",
     "text": [
      "+-------------+---------+----+----+-------------+---------+--------------------+--------+---------------+--------+------+---------+-------+----+-------------+\n",
      "|battery_level|c02_level|cca2|cca3|           cn|device_id|         device_name|humidity|             ip|latitude|   lcd|longitude|  scale|temp|    timestamp|\n",
      "+-------------+---------+----+----+-------------+---------+--------------------+--------+---------------+--------+------+---------+-------+----+-------------+\n",
      "|            8|      868|  US| USA|United States|        1|meter-gauge-1xbYRYcj|      51|   68.161.225.1|    38.0| green|    -97.0|Celsius|  34|1458444054093|\n",
      "|            7|     1473|  NO| NOR|       Norway|        2|   sensor-pad-2n2Pea|      70|  213.161.254.1|   62.47|   red|     6.15|Celsius|  11|1458444054119|\n",
      "|            2|     1556|  IT| ITA|        Italy|        3| device-mac-36TWSKiT|      44|      88.36.5.1|   42.83|   red|    12.83|Celsius|  19|1458444054120|\n",
      "|            6|     1080|  US| USA|United States|        4|   sensor-pad-4mzWkz|      32|  66.39.173.154|   44.06|yellow|  -121.32|Celsius|  28|1458444054121|\n",
      "|            4|      931|  PH| PHL|  Philippines|        5|therm-stick-5gimp...|      62|    203.82.41.9|   14.58| green|   120.97|Celsius|  25|1458444054122|\n",
      "|            3|     1210|  US| USA|United States|        6|sensor-pad-6al7RT...|      51| 204.116.105.67|   35.93|yellow|   -85.46|Celsius|  27|1458444054122|\n",
      "|            3|     1129|  CN| CHN|        China|        7|meter-gauge-7GeDoanM|      26|  220.173.179.1|   22.82|yellow|   108.32|Celsius|  18|1458444054123|\n",
      "|            0|     1536|  JP| JPN|        Japan|        8|sensor-pad-8xUD6p...|      35|  210.173.177.1|   35.69|   red|   139.69|Celsius|  27|1458444054123|\n",
      "|            3|      807|  JP| JPN|        Japan|        9| device-mac-9GcjZ2pw|      85|  118.23.68.227|   35.69| green|   139.69|Celsius|  13|1458444054124|\n",
      "|            7|     1470|  US| USA|United States|       10|sensor-pad-10Bsyw...|      56|208.109.163.218|   33.61|   red|  -111.89|Celsius|  26|1458444054125|\n",
      "|            3|     1544|  IT| ITA|        Italy|       11|meter-gauge-11dlM...|      85|  88.213.191.34|   42.83|   red|    12.83|Celsius|  16|1458444054125|\n",
      "|            0|     1260|  US| USA|United States|       12|sensor-pad-12Y2kIm0o|      92|    68.28.91.22|    38.0|yellow|    -97.0|Celsius|  12|1458444054126|\n",
      "|            6|     1007|  IN| IND|        India|       13|meter-gauge-13Gro...|      92| 59.144.114.250|    28.6|yellow|     77.2|Celsius|  13|1458444054127|\n",
      "|            1|     1346|  NO| NOR|       Norway|       14|sensor-pad-14QL93...|      90| 193.156.90.200|   59.95|yellow|    10.75|Celsius|  16|1458444054127|\n",
      "|            9|     1259|  US| USA|United States|       15|  device-mac-15se6mZ|      70|    67.185.72.1|   47.41|yellow|   -122.0|Celsius|  13|1458444054128|\n",
      "|            4|     1425|  US| USA|United States|       16|sensor-pad-16aXmI...|      53|   68.85.85.106|    38.0|   red|    -97.0|Celsius|  15|1458444054128|\n",
      "|            0|     1466|  US| USA|United States|       17|meter-gauge-17zb8...|      98|161.188.212.254|   39.95|   red|   -75.16|Celsius|  31|1458444054129|\n",
      "|            4|     1096|  CN| CHN|        China|       18|sensor-pad-18XULN9Xv|      25|  221.3.128.242|   25.04|yellow|   102.72|Celsius|  31|1458444054130|\n",
      "|            9|     1531|  US| USA|United States|       19|meter-gauge-19eg1...|      75| 64.124.180.215|    38.0|   red|    -97.0|Celsius|  29|1458444054130|\n",
      "|            7|     1155|  US| USA|United States|       20|sensor-pad-20gFNf...|      33|  66.153.162.66|   33.94|yellow|   -78.92|Celsius|  10|1458444054131|\n",
      "+-------------+---------+----+----+-------------+---------+--------------------+--------+---------------+--------+------+---------+-------+----+-------------+\n",
      "only showing top 20 rows\n",
      "\n"
     ]
    }
   ],
   "source": [
    "df.show()"
   ]
  },
  {
   "cell_type": "markdown",
   "id": "8d34e501",
   "metadata": {
    "id": "_2QH9dTkzeKr",
    "papermill": {
     "duration": 0.018159,
     "end_time": "2023-02-15T17:27:57.797430",
     "exception": false,
     "start_time": "2023-02-15T17:27:57.779271",
     "status": "completed"
    },
    "tags": []
   },
   "source": [
    "**Convert the Dataframe into a temporary view called iot**"
   ]
  },
  {
   "cell_type": "code",
   "execution_count": 7,
   "id": "68fd0e2b",
   "metadata": {
    "execution": {
     "iopub.execute_input": "2023-02-15T17:27:57.835728Z",
     "iopub.status.busy": "2023-02-15T17:27:57.834987Z",
     "iopub.status.idle": "2023-02-15T17:27:57.907489Z",
     "shell.execute_reply": "2023-02-15T17:27:57.906272Z"
    },
    "id": "q9kBZCmgzhlp",
    "papermill": {
     "duration": 0.095104,
     "end_time": "2023-02-15T17:27:57.910622",
     "exception": false,
     "start_time": "2023-02-15T17:27:57.815518",
     "status": "completed"
    },
    "tags": []
   },
   "outputs": [],
   "source": [
    "df.createOrReplaceTempView(\"iot\")"
   ]
  },
  {
   "cell_type": "code",
   "execution_count": 8,
   "id": "1b84e98b",
   "metadata": {
    "execution": {
     "iopub.execute_input": "2023-02-15T17:27:57.949487Z",
     "iopub.status.busy": "2023-02-15T17:27:57.948980Z",
     "iopub.status.idle": "2023-02-15T17:27:58.297548Z",
     "shell.execute_reply": "2023-02-15T17:27:58.296326Z"
    },
    "id": "my8-PpXa_hd5",
    "outputId": "993c6853-6202-412c-9592-07afa14fcc78",
    "papermill": {
     "duration": 0.373005,
     "end_time": "2023-02-15T17:27:58.302133",
     "exception": false,
     "start_time": "2023-02-15T17:27:57.929128",
     "status": "completed"
    },
    "tags": []
   },
   "outputs": [
    {
     "name": "stdout",
     "output_type": "stream",
     "text": [
      "+-------------+---------+----+----+-------------+---------+--------------------+--------+---------------+--------+------+---------+-------+----+-------------+\n",
      "|battery_level|c02_level|cca2|cca3|           cn|device_id|         device_name|humidity|             ip|latitude|   lcd|longitude|  scale|temp|    timestamp|\n",
      "+-------------+---------+----+----+-------------+---------+--------------------+--------+---------------+--------+------+---------+-------+----+-------------+\n",
      "|            8|      868|  US| USA|United States|        1|meter-gauge-1xbYRYcj|      51|   68.161.225.1|    38.0| green|    -97.0|Celsius|  34|1458444054093|\n",
      "|            7|     1473|  NO| NOR|       Norway|        2|   sensor-pad-2n2Pea|      70|  213.161.254.1|   62.47|   red|     6.15|Celsius|  11|1458444054119|\n",
      "|            2|     1556|  IT| ITA|        Italy|        3| device-mac-36TWSKiT|      44|      88.36.5.1|   42.83|   red|    12.83|Celsius|  19|1458444054120|\n",
      "|            6|     1080|  US| USA|United States|        4|   sensor-pad-4mzWkz|      32|  66.39.173.154|   44.06|yellow|  -121.32|Celsius|  28|1458444054121|\n",
      "|            4|      931|  PH| PHL|  Philippines|        5|therm-stick-5gimp...|      62|    203.82.41.9|   14.58| green|   120.97|Celsius|  25|1458444054122|\n",
      "|            3|     1210|  US| USA|United States|        6|sensor-pad-6al7RT...|      51| 204.116.105.67|   35.93|yellow|   -85.46|Celsius|  27|1458444054122|\n",
      "|            3|     1129|  CN| CHN|        China|        7|meter-gauge-7GeDoanM|      26|  220.173.179.1|   22.82|yellow|   108.32|Celsius|  18|1458444054123|\n",
      "|            0|     1536|  JP| JPN|        Japan|        8|sensor-pad-8xUD6p...|      35|  210.173.177.1|   35.69|   red|   139.69|Celsius|  27|1458444054123|\n",
      "|            3|      807|  JP| JPN|        Japan|        9| device-mac-9GcjZ2pw|      85|  118.23.68.227|   35.69| green|   139.69|Celsius|  13|1458444054124|\n",
      "|            7|     1470|  US| USA|United States|       10|sensor-pad-10Bsyw...|      56|208.109.163.218|   33.61|   red|  -111.89|Celsius|  26|1458444054125|\n",
      "|            3|     1544|  IT| ITA|        Italy|       11|meter-gauge-11dlM...|      85|  88.213.191.34|   42.83|   red|    12.83|Celsius|  16|1458444054125|\n",
      "|            0|     1260|  US| USA|United States|       12|sensor-pad-12Y2kIm0o|      92|    68.28.91.22|    38.0|yellow|    -97.0|Celsius|  12|1458444054126|\n",
      "|            6|     1007|  IN| IND|        India|       13|meter-gauge-13Gro...|      92| 59.144.114.250|    28.6|yellow|     77.2|Celsius|  13|1458444054127|\n",
      "|            1|     1346|  NO| NOR|       Norway|       14|sensor-pad-14QL93...|      90| 193.156.90.200|   59.95|yellow|    10.75|Celsius|  16|1458444054127|\n",
      "|            9|     1259|  US| USA|United States|       15|  device-mac-15se6mZ|      70|    67.185.72.1|   47.41|yellow|   -122.0|Celsius|  13|1458444054128|\n",
      "|            4|     1425|  US| USA|United States|       16|sensor-pad-16aXmI...|      53|   68.85.85.106|    38.0|   red|    -97.0|Celsius|  15|1458444054128|\n",
      "|            0|     1466|  US| USA|United States|       17|meter-gauge-17zb8...|      98|161.188.212.254|   39.95|   red|   -75.16|Celsius|  31|1458444054129|\n",
      "|            4|     1096|  CN| CHN|        China|       18|sensor-pad-18XULN9Xv|      25|  221.3.128.242|   25.04|yellow|   102.72|Celsius|  31|1458444054130|\n",
      "|            9|     1531|  US| USA|United States|       19|meter-gauge-19eg1...|      75| 64.124.180.215|    38.0|   red|    -97.0|Celsius|  29|1458444054130|\n",
      "|            7|     1155|  US| USA|United States|       20|sensor-pad-20gFNf...|      33|  66.153.162.66|   33.94|yellow|   -78.92|Celsius|  10|1458444054131|\n",
      "+-------------+---------+----+----+-------------+---------+--------------------+--------+---------------+--------+------+---------+-------+----+-------------+\n",
      "only showing top 20 rows\n",
      "\n"
     ]
    }
   ],
   "source": [
    "df1 = spark.sql(\"SELECT * FROM iot\")\n",
    "df1.show()"
   ]
  },
  {
   "cell_type": "markdown",
   "id": "ab0e0c22",
   "metadata": {
    "id": "JOwCoTNbzqax",
    "papermill": {
     "duration": 0.026473,
     "end_time": "2023-02-15T17:27:58.355549",
     "exception": false,
     "start_time": "2023-02-15T17:27:58.329076",
     "status": "completed"
    },
    "tags": []
   },
   "source": [
    "**Count how many devices are there from each country and display the output**"
   ]
  },
  {
   "cell_type": "code",
   "execution_count": 9,
   "id": "d821b2db",
   "metadata": {
    "execution": {
     "iopub.execute_input": "2023-02-15T17:27:58.411083Z",
     "iopub.status.busy": "2023-02-15T17:27:58.410358Z",
     "iopub.status.idle": "2023-02-15T17:28:01.624311Z",
     "shell.execute_reply": "2023-02-15T17:28:01.623125Z"
    },
    "id": "FOMGCQSnBdBD",
    "outputId": "a6da874b-7d51-4bc2-dd8a-cdf018921a18",
    "papermill": {
     "duration": 3.250883,
     "end_time": "2023-02-15T17:28:01.633163",
     "exception": false,
     "start_time": "2023-02-15T17:27:58.382280",
     "status": "completed"
    },
    "tags": []
   },
   "outputs": [
    {
     "name": "stderr",
     "output_type": "stream",
     "text": [
      "[Stage 3:============================================>              (3 + 1) / 4]\r"
     ]
    },
    {
     "name": "stdout",
     "output_type": "stream",
     "text": [
      "+--------------------+------------+\n",
      "|                  cn|no_of_device|\n",
      "+--------------------+------------+\n",
      "|                    |        1810|\n",
      "|         Afghanistan|          19|\n",
      "|             Albania|          32|\n",
      "|             Algeria|          34|\n",
      "|      American Samoa|           3|\n",
      "|             Andorra|           4|\n",
      "|              Angola|          28|\n",
      "|            Anguilla|           7|\n",
      "| Antigua and Barbuda|          60|\n",
      "|           Argentina|         978|\n",
      "|             Armenia|          34|\n",
      "|               Aruba|           8|\n",
      "|           Australia|        3119|\n",
      "|             Austria|        1462|\n",
      "|          Azerbaijan|          49|\n",
      "|             Bahamas|          18|\n",
      "|             Bahrain|          55|\n",
      "|          Bangladesh|         153|\n",
      "|            Barbados|          38|\n",
      "|             Belarus|         123|\n",
      "|             Belgium|         666|\n",
      "|              Belize|          13|\n",
      "|               Benin|           3|\n",
      "|             Bermuda|          53|\n",
      "|              Bhutan|           8|\n",
      "|             Bolivia|         108|\n",
      "|Bosnia and Herzeg...|         106|\n",
      "|            Botswana|          12|\n",
      "|              Brazil|        3224|\n",
      "|British Indian Oc...|           2|\n",
      "|British Virgin Is...|           6|\n",
      "|              Brunei|          19|\n",
      "|            Bulgaria|        1334|\n",
      "|        Burkina Faso|          24|\n",
      "|            Cambodia|          43|\n",
      "|            Cameroon|          29|\n",
      "|              Canada|        6041|\n",
      "|      Cayman Islands|          26|\n",
      "|               Chile|         371|\n",
      "|               China|       14455|\n",
      "|            Colombia|         423|\n",
      "|               Congo|           8|\n",
      "|        Cook Islands|           3|\n",
      "|          Costa Rica|         116|\n",
      "|             Croatia|         193|\n",
      "|                Cuba|          15|\n",
      "|             Curaçao|          36|\n",
      "|              Cyprus|          93|\n",
      "|      Czech Republic|        1507|\n",
      "|             Denmark|        1190|\n",
      "+--------------------+------------+\n",
      "only showing top 50 rows\n",
      "\n"
     ]
    },
    {
     "name": "stderr",
     "output_type": "stream",
     "text": [
      "                                                                                \r"
     ]
    }
   ],
   "source": [
    "spark.sql(\"SELECT cn, COUNT (device_name) AS no_of_device FROM iot GROUP BY cn ORDER BY cn\").show(50)"
   ]
  },
  {
   "cell_type": "code",
   "execution_count": 10,
   "id": "27dcbae9",
   "metadata": {
    "execution": {
     "iopub.execute_input": "2023-02-15T17:28:01.697502Z",
     "iopub.status.busy": "2023-02-15T17:28:01.696866Z",
     "iopub.status.idle": "2023-02-15T17:28:04.332308Z",
     "shell.execute_reply": "2023-02-15T17:28:04.331037Z"
    },
    "id": "aYQGdQRdSqHo",
    "outputId": "65d642eb-528d-4be1-c17a-f1a1933b1720",
    "papermill": {
     "duration": 2.675314,
     "end_time": "2023-02-15T17:28:04.340082",
     "exception": false,
     "start_time": "2023-02-15T17:28:01.664768",
     "status": "completed"
    },
    "tags": []
   },
   "outputs": [
    {
     "name": "stderr",
     "output_type": "stream",
     "text": [
      "[Stage 8:>                                                          (0 + 1) / 1]\r"
     ]
    },
    {
     "name": "stdout",
     "output_type": "stream",
     "text": [
      "+----+---------+\n",
      "|cca3|device_id|\n",
      "+----+---------+\n",
      "| USA|    70405|\n",
      "| CHN|    14455|\n",
      "| JPN|    12100|\n",
      "| KOR|    11879|\n",
      "| DEU|     7942|\n",
      "| GBR|     6486|\n",
      "| CAN|     6041|\n",
      "| RUS|     5989|\n",
      "| FRA|     5305|\n",
      "| BRA|     3224|\n",
      "| AUS|     3119|\n",
      "| ITA|     2915|\n",
      "| SWE|     2880|\n",
      "| POL|     2744|\n",
      "| NLD|     2488|\n",
      "| ESP|     2310|\n",
      "| TWN|     2128|\n",
      "| IND|     1867|\n",
      "| CZE|     1507|\n",
      "| NOR|     1487|\n",
      "+----+---------+\n",
      "only showing top 20 rows\n",
      "\n"
     ]
    },
    {
     "name": "stderr",
     "output_type": "stream",
     "text": [
      "                                                                                \r"
     ]
    }
   ],
   "source": [
    "spark.sql(\"select cca3, count(distinct device_id) as device_id from iot group by cca3 order by device_id desc limit 100\").show()"
   ]
  },
  {
   "cell_type": "markdown",
   "id": "ca9d86f9",
   "metadata": {
    "id": "mSqsMmI3zz0L",
    "papermill": {
     "duration": 0.027828,
     "end_time": "2023-02-15T17:28:04.398717",
     "exception": false,
     "start_time": "2023-02-15T17:28:04.370889",
     "status": "completed"
    },
    "tags": []
   },
   "source": [
    "**Display all the countries whose carbon dioxide level is more than 1400. Sort the output in descending order.**"
   ]
  },
  {
   "cell_type": "code",
   "execution_count": 11,
   "id": "7c6172f7",
   "metadata": {
    "execution": {
     "iopub.execute_input": "2023-02-15T17:28:04.454605Z",
     "iopub.status.busy": "2023-02-15T17:28:04.454142Z",
     "iopub.status.idle": "2023-02-15T17:28:05.700015Z",
     "shell.execute_reply": "2023-02-15T17:28:05.698643Z"
    },
    "id": "Wu1wHU0hUQcR",
    "outputId": "cd97afab-f218-4f8d-d8c1-46b0b58bf7e0",
    "papermill": {
     "duration": 1.278688,
     "end_time": "2023-02-15T17:28:05.704534",
     "exception": false,
     "start_time": "2023-02-15T17:28:04.425846",
     "status": "completed"
    },
    "tags": []
   },
   "outputs": [
    {
     "name": "stderr",
     "output_type": "stream",
     "text": [
      "[Stage 12:>                                                         (0 + 4) / 4]\r"
     ]
    },
    {
     "name": "stdout",
     "output_type": "stream",
     "text": [
      "+----+---------+\n",
      "|cca3|c02_level|\n",
      "+----+---------+\n",
      "| BRA|     1599|\n",
      "| USA|     1599|\n",
      "| USA|     1599|\n",
      "| USA|     1599|\n",
      "| USA|     1599|\n",
      "| USA|     1599|\n",
      "| CZE|     1599|\n",
      "| USA|     1599|\n",
      "| USA|     1599|\n",
      "| UKR|     1599|\n",
      "| RUS|     1599|\n",
      "| IRL|     1599|\n",
      "| CHN|     1599|\n",
      "| USA|     1599|\n",
      "| USA|     1599|\n",
      "| RUS|     1599|\n",
      "| UKR|     1599|\n",
      "| CHN|     1599|\n",
      "| KOR|     1599|\n",
      "| USA|     1599|\n",
      "+----+---------+\n",
      "only showing top 20 rows\n",
      "\n"
     ]
    },
    {
     "name": "stderr",
     "output_type": "stream",
     "text": [
      "                                                                                \r"
     ]
    }
   ],
   "source": [
    "spark.sql(\"select cca3, c02_level from iot where c02_level > 1400 order by c02_level desc\").show()"
   ]
  },
  {
   "cell_type": "code",
   "execution_count": 12,
   "id": "54564dc2",
   "metadata": {
    "execution": {
     "iopub.execute_input": "2023-02-15T17:28:05.745006Z",
     "iopub.status.busy": "2023-02-15T17:28:05.744457Z",
     "iopub.status.idle": "2023-02-15T17:28:06.521903Z",
     "shell.execute_reply": "2023-02-15T17:28:06.520543Z"
    },
    "id": "U3ePTDOPz7az",
    "outputId": "3128bb3c-163e-4017-8b8d-7de3f3780758",
    "papermill": {
     "duration": 0.802329,
     "end_time": "2023-02-15T17:28:06.525771",
     "exception": false,
     "start_time": "2023-02-15T17:28:05.723442",
     "status": "completed"
    },
    "tags": []
   },
   "outputs": [
    {
     "name": "stdout",
     "output_type": "stream",
     "text": [
      "+--------------------+---------+\n",
      "|                  cn|c02_level|\n",
      "+--------------------+---------+\n",
      "|               Spain|     1599|\n",
      "|         Netherlands|     1599|\n",
      "|       United States|     1599|\n",
      "|Saint Kitts and N...|     1599|\n",
      "|           Australia|     1599|\n",
      "|       United States|     1599|\n",
      "|             Germany|     1599|\n",
      "|       United States|     1599|\n",
      "|             Germany|     1599|\n",
      "|       United States|     1599|\n",
      "|       United States|     1599|\n",
      "|       United States|     1599|\n",
      "|   Republic of Korea|     1599|\n",
      "|       United States|     1599|\n",
      "|              Russia|     1599|\n",
      "|      United Kingdom|     1599|\n",
      "|       United States|     1599|\n",
      "|               China|     1599|\n",
      "|              Sweden|     1599|\n",
      "|                    |     1599|\n",
      "+--------------------+---------+\n",
      "only showing top 20 rows\n",
      "\n"
     ]
    },
    {
     "name": "stderr",
     "output_type": "stream",
     "text": [
      "                                                                                \r"
     ]
    }
   ],
   "source": [
    "spark.sql(\"SELECT cn,c02_level FROM iot WHERE c02_level > 1400 ORDER BY c02_level DESC\").show()"
   ]
  },
  {
   "cell_type": "markdown",
   "id": "04555759",
   "metadata": {
    "id": "NIOpdpG2z5sc",
    "papermill": {
     "duration": 0.018793,
     "end_time": "2023-02-15T17:28:06.564053",
     "exception": false,
     "start_time": "2023-02-15T17:28:06.545260",
     "status": "completed"
    },
    "tags": []
   },
   "source": [
    "**Select all countries' devices with high-levels of C02 and group by cca3 and order by device_ids (Hint: For high CO2 level, the LCD status will be RED).**"
   ]
  },
  {
   "cell_type": "code",
   "execution_count": 13,
   "id": "83d0a71c",
   "metadata": {
    "execution": {
     "iopub.execute_input": "2023-02-15T17:28:06.603903Z",
     "iopub.status.busy": "2023-02-15T17:28:06.603388Z",
     "iopub.status.idle": "2023-02-15T17:28:08.530994Z",
     "shell.execute_reply": "2023-02-15T17:28:08.528662Z"
    },
    "id": "tLEFGSdSz4V2",
    "outputId": "776471a1-38ab-4147-80c9-a890832fdd4e",
    "papermill": {
     "duration": 1.951701,
     "end_time": "2023-02-15T17:28:08.534517",
     "exception": false,
     "start_time": "2023-02-15T17:28:06.582816",
     "status": "completed"
    },
    "tags": []
   },
   "outputs": [
    {
     "name": "stderr",
     "output_type": "stream",
     "text": [
      "[Stage 14:>                                                         (0 + 4) / 4]\r"
     ]
    },
    {
     "name": "stdout",
     "output_type": "stream",
     "text": [
      "+----+---------+\n",
      "|cca3|device_id|\n",
      "+----+---------+\n",
      "| TJK|        1|\n",
      "| REU|        1|\n",
      "| TKM|        1|\n",
      "| GIB|        1|\n",
      "| CIV|        1|\n",
      "| LBR|        1|\n",
      "| MHL|        1|\n",
      "| SLB|        1|\n",
      "| GAB|        1|\n",
      "| TLS|        1|\n",
      "| IOT|        1|\n",
      "| GGY|        1|\n",
      "| FSM|        1|\n",
      "| AND|        1|\n",
      "| FLK|        1|\n",
      "| VUT|        2|\n",
      "| ZMB|        2|\n",
      "| LCA|        2|\n",
      "| GMB|        2|\n",
      "| VCT|        2|\n",
      "+----+---------+\n",
      "only showing top 20 rows\n",
      "\n"
     ]
    },
    {
     "name": "stderr",
     "output_type": "stream",
     "text": [
      "                                                                                \r"
     ]
    }
   ],
   "source": [
    "spark.sql(\"select cca3, count(distinct device_id) as device_id from iot where lcd == 'red' group by cca3 order by device_id\").show()"
   ]
  },
  {
   "cell_type": "code",
   "execution_count": 14,
   "id": "efee46db",
   "metadata": {
    "execution": {
     "iopub.execute_input": "2023-02-15T17:28:08.577281Z",
     "iopub.status.busy": "2023-02-15T17:28:08.576609Z",
     "iopub.status.idle": "2023-02-15T17:28:08.813218Z",
     "shell.execute_reply": "2023-02-15T17:28:08.811887Z"
    },
    "id": "Z2x0C7DlQMcX",
    "outputId": "4a3ef9e1-0eab-4233-8934-be642459f632",
    "papermill": {
     "duration": 0.263893,
     "end_time": "2023-02-15T17:28:08.819422",
     "exception": false,
     "start_time": "2023-02-15T17:28:08.555529",
     "status": "completed"
    },
    "tags": []
   },
   "outputs": [
    {
     "name": "stdout",
     "output_type": "stream",
     "text": [
      "+-----------------+--------------------+---------+---+\n",
      "|               cn|         device_name|c02_level|lcd|\n",
      "+-----------------+--------------------+---------+---+\n",
      "|           Norway|   sensor-pad-2n2Pea|     1473|red|\n",
      "|            Italy| device-mac-36TWSKiT|     1556|red|\n",
      "|            Japan|sensor-pad-8xUD6p...|     1536|red|\n",
      "|    United States|sensor-pad-10Bsyw...|     1470|red|\n",
      "|            Italy|meter-gauge-11dlM...|     1544|red|\n",
      "|    United States|sensor-pad-16aXmI...|     1425|red|\n",
      "|    United States|meter-gauge-17zb8...|     1466|red|\n",
      "|    United States|meter-gauge-19eg1...|     1531|red|\n",
      "|            Japan|  sensor-pad-22oWV2D|     1522|red|\n",
      "|           Canada|sensor-pad-24Pytz...|     1511|red|\n",
      "|Republic of Korea|  device-mac-27P5wf2|     1597|red|\n",
      "|Republic of Korea|sensor-pad-28Tsud...|     1502|red|\n",
      "|          Ukraine|meter-gauge-47WsF9s8|     1454|red|\n",
      "|           Sweden|meter-gauge-534fD...|     1446|red|\n",
      "|    United States|sensor-pad-5410CW...|     1436|red|\n",
      "|    United States|device-mac-57tRB0...|     1503|red|\n",
      "|    United States|  sensor-pad-64djcIn|     1524|red|\n",
      "|   Czech Republic|sensor-pad-663dzo...|     1482|red|\n",
      "|            India|meter-gauge-77IKW...|     1454|red|\n",
      "|Republic of Korea|sensor-pad-78PkeI...|     1493|red|\n",
      "+-----------------+--------------------+---------+---+\n",
      "only showing top 20 rows\n",
      "\n"
     ]
    }
   ],
   "source": [
    "spark.sql(\"SELECT cn,device_name,c02_level,lcd FROM iot WHERE lcd == 'red' \").show()"
   ]
  },
  {
   "cell_type": "markdown",
   "id": "1493b6c7",
   "metadata": {
    "id": "MBUo10sq0BFJ",
    "papermill": {
     "duration": 0.027011,
     "end_time": "2023-02-15T17:28:08.876102",
     "exception": false,
     "start_time": "2023-02-15T17:28:08.849091",
     "status": "completed"
    },
    "tags": []
   },
   "source": [
    "**Find out all devices in countries whose batteries need replacements.**"
   ]
  },
  {
   "cell_type": "code",
   "execution_count": 15,
   "id": "a0155edf",
   "metadata": {
    "execution": {
     "iopub.execute_input": "2023-02-15T17:28:08.935083Z",
     "iopub.status.busy": "2023-02-15T17:28:08.933898Z",
     "iopub.status.idle": "2023-02-15T17:28:10.243465Z",
     "shell.execute_reply": "2023-02-15T17:28:10.241708Z"
    },
    "id": "Mazi6YAPT5E8",
    "outputId": "7934354c-9d6a-469b-b0ba-70dbc9e83e66",
    "papermill": {
     "duration": 1.345336,
     "end_time": "2023-02-15T17:28:10.249501",
     "exception": false,
     "start_time": "2023-02-15T17:28:08.904165",
     "status": "completed"
    },
    "tags": []
   },
   "outputs": [
    {
     "name": "stderr",
     "output_type": "stream",
     "text": [
      "[Stage 21:=============================>                            (2 + 2) / 4]\r"
     ]
    },
    {
     "name": "stdout",
     "output_type": "stream",
     "text": [
      "+----+---------+\n",
      "|cca3|device_id|\n",
      "+----+---------+\n",
      "| USA|     7043|\n",
      "| CHN|     1415|\n",
      "| KOR|     1217|\n",
      "| JPN|     1210|\n",
      "| DEU|      760|\n",
      "| GBR|      650|\n",
      "| CAN|      612|\n",
      "| RUS|      600|\n",
      "| FRA|      582|\n",
      "| BRA|      374|\n",
      "| AUS|      322|\n",
      "| SWE|      293|\n",
      "| ITA|      287|\n",
      "| POL|      278|\n",
      "| NLD|      251|\n",
      "| ESP|      223|\n",
      "| TWN|      207|\n",
      "| IND|      189|\n",
      "| UKR|      149|\n",
      "| HKG|      149|\n",
      "+----+---------+\n",
      "only showing top 20 rows\n",
      "\n"
     ]
    },
    {
     "name": "stderr",
     "output_type": "stream",
     "text": [
      "                                                                                \r"
     ]
    }
   ],
   "source": [
    "spark.sql(\"select cca3, count(distinct device_id) as device_id from iot where battery_level == 0 group by cca3 order by device_id desc limit 100\").show()"
   ]
  },
  {
   "cell_type": "code",
   "execution_count": 16,
   "id": "c9327f7e",
   "metadata": {
    "execution": {
     "iopub.execute_input": "2023-02-15T17:28:10.310776Z",
     "iopub.status.busy": "2023-02-15T17:28:10.310206Z",
     "iopub.status.idle": "2023-02-15T17:28:10.525848Z",
     "shell.execute_reply": "2023-02-15T17:28:10.524522Z"
    },
    "id": "xdFJhuK50D2P",
    "outputId": "81b679c4-e73b-4a44-d952-fe73d4c870f5",
    "papermill": {
     "duration": 0.250942,
     "end_time": "2023-02-15T17:28:10.529769",
     "exception": false,
     "start_time": "2023-02-15T17:28:10.278827",
     "status": "completed"
    },
    "tags": []
   },
   "outputs": [
    {
     "name": "stdout",
     "output_type": "stream",
     "text": [
      "+-----------------+--------------------+-------------+\n",
      "|               cn|         device_name|battery_level|\n",
      "+-----------------+--------------------+-------------+\n",
      "|            Japan|sensor-pad-8xUD6p...|            0|\n",
      "|    United States|sensor-pad-12Y2kIm0o|            0|\n",
      "|    United States|meter-gauge-17zb8...|            0|\n",
      "|          Germany| sensor-pad-448DeWGL|            0|\n",
      "|           Canada|sensor-pad-80TY4d...|            0|\n",
      "|Republic of Korea| sensor-pad-92vxuq7e|            0|\n",
      "|    United States|sensor-pad-98mJQA...|            0|\n",
      "|            Japan|meter-gauge-1075K...|            0|\n",
      "|        Australia|device-mac-111WYt...|            0|\n",
      "|    United States| sensor-pad-11663yUf|            0|\n",
      "|            China|device-mac-117mcc...|            0|\n",
      "|    United States|device-mac-123zvY...|            0|\n",
      "|    United States|meter-gauge-131Lb...|            0|\n",
      "|    United States|sensor-pad-1344UG...|            0|\n",
      "|          Germany|sensor-pad-140tq1s6t|            0|\n",
      "|            China|meter-gauge-151Gj...|            0|\n",
      "|            China|sensor-pad-156nfj...|            0|\n",
      "|    United States|meter-gauge-167c4...|            0|\n",
      "|    United States|meter-gauge-1794X...|            0|\n",
      "|     South Africa|sensor-pad-180lj1...|            0|\n",
      "+-----------------+--------------------+-------------+\n",
      "only showing top 20 rows\n",
      "\n"
     ]
    }
   ],
   "source": [
    "spark.sql(\"SELECT cn,device_name,battery_level FROM iot WHERE battery_level == 0\").show()"
   ]
  }
 ],
 "metadata": {
  "kernelspec": {
   "display_name": "Python 3",
   "language": "python",
   "name": "python3"
  },
  "language_info": {
   "codemirror_mode": {
    "name": "ipython",
    "version": 3
   },
   "file_extension": ".py",
   "mimetype": "text/x-python",
   "name": "python",
   "nbconvert_exporter": "python",
   "pygments_lexer": "ipython3",
   "version": "3.7.12"
  },
  "papermill": {
   "default_parameters": {},
   "duration": 132.893924,
   "end_time": "2023-02-15T17:28:13.181639",
   "environment_variables": {},
   "exception": null,
   "input_path": "__notebook__.ipynb",
   "output_path": "__notebook__.ipynb",
   "parameters": {},
   "start_time": "2023-02-15T17:26:00.287715",
   "version": "2.3.4"
  }
 },
 "nbformat": 4,
 "nbformat_minor": 5
}
