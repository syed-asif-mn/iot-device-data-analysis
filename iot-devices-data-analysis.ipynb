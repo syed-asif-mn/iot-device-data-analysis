{
 "cells": [
  {
   "cell_type": "code",
   "execution_count": 1,
   "id": "7067a029",
   "metadata": {
    "execution": {
     "iopub.execute_input": "2023-02-15T18:28:36.064535Z",
     "iopub.status.busy": "2023-02-15T18:28:36.064088Z",
     "iopub.status.idle": "2023-02-15T18:30:14.247882Z",
     "shell.execute_reply": "2023-02-15T18:30:14.245897Z"
    },
    "id": "VCUAmm0hyplM",
    "outputId": "e061bfce-d442-4bac-e72a-75b8b218b48c",
    "papermill": {
     "duration": 98.198245,
     "end_time": "2023-02-15T18:30:14.251211",
     "exception": false,
     "start_time": "2023-02-15T18:28:36.052966",
     "status": "completed"
    },
    "tags": []
   },
   "outputs": [
    {
     "name": "stdout",
     "output_type": "stream",
     "text": [
      "/bin/bash: /opt/conda/lib/libtinfo.so.6: no version information available (required by /bin/bash)\r\n",
      "/bin/bash: /opt/conda/lib/libtinfo.so.6: no version information available (required by /bin/bash)\r\n",
      "/bin/bash: /opt/conda/lib/libtinfo.so.6: no version information available (required by /bin/bash)\r\n",
      "\u001b[33mWARNING: Running pip as the 'root' user can result in broken permissions and conflicting behaviour with the system package manager. It is recommended to use a virtual environment instead: https://pip.pypa.io/warnings/venv\u001b[0m\u001b[33m\r\n",
      "\u001b[0m/bin/bash: /opt/conda/lib/libtinfo.so.6: no version information available (required by /bin/bash)\r\n",
      "Collecting pyspark\r\n",
      "  Downloading pyspark-3.3.1.tar.gz (281.4 MB)\r\n",
      "\u001b[2K     \u001b[90m━━━━━━━━━━━━━━━━━━━━━━━━━━━━━━━━━━━━━━━\u001b[0m \u001b[32m281.4/281.4 MB\u001b[0m \u001b[31m3.5 MB/s\u001b[0m eta \u001b[36m0:00:00\u001b[0m\r\n",
      "\u001b[?25h  Preparing metadata (setup.py) ... \u001b[?25l-\b \bdone\r\n",
      "\u001b[?25hCollecting py4j==0.10.9.5\r\n",
      "  Downloading py4j-0.10.9.5-py2.py3-none-any.whl (199 kB)\r\n",
      "\u001b[2K     \u001b[90m━━━━━━━━━━━━━━━━━━━━━━━━━━━━━━━━━━━━━━\u001b[0m \u001b[32m199.7/199.7 kB\u001b[0m \u001b[31m14.7 MB/s\u001b[0m eta \u001b[36m0:00:00\u001b[0m\r\n",
      "\u001b[?25hBuilding wheels for collected packages: pyspark\r\n",
      "  Building wheel for pyspark (setup.py) ... \u001b[?25l-\b \b\\\b \b|\b \b/\b \b-\b \b\\\b \b|\b \b/\b \b-\b \b\\\b \b|\b \b/\b \b-\b \b\\\b \b|\b \b/\b \b-\b \b\\\b \b|\b \b/\b \b-\b \b\\\b \b|\b \b/\b \b-\b \b\\\b \b|\b \b/\b \b-\b \b\\\b \b|\b \b/\b \b-\b \b\\\b \b|\b \b/\b \b-\b \b\\\b \b|\b \b/\b \b-\b \b\\\b \b|\b \b/\b \b-\b \b\\\b \b|\b \b/\b \b-\b \b\\\b \b|\b \b/\b \b-\b \b\\\b \b|\b \b/\b \b-\b \b\\\b \b|\b \b/\b \b-\b \bdone\r\n",
      "\u001b[?25h  Created wheel for pyspark: filename=pyspark-3.3.1-py2.py3-none-any.whl size=281845513 sha256=801e6e2a66ac18672903fee154f52c3566bee447d9cfdbe482743b85c6aafee5\r\n",
      "  Stored in directory: /root/.cache/pip/wheels/42/59/f5/79a5bf931714dcd201b26025347785f087370a10a3329a899c\r\n",
      "Successfully built pyspark\r\n",
      "Installing collected packages: py4j, pyspark\r\n",
      "  Attempting uninstall: py4j\r\n",
      "    Found existing installation: py4j 0.10.9.7\r\n",
      "    Uninstalling py4j-0.10.9.7:\r\n",
      "      Successfully uninstalled py4j-0.10.9.7\r\n",
      "Successfully installed py4j-0.10.9.5 pyspark-3.3.1\r\n",
      "\u001b[33mWARNING: Running pip as the 'root' user can result in broken permissions and conflicting behaviour with the system package manager. It is recommended to use a virtual environment instead: https://pip.pypa.io/warnings/venv\u001b[0m\u001b[33m\r\n",
      "\u001b[0m"
     ]
    }
   ],
   "source": [
    "!apt-get install openjdk-8-jdk-headless -qq > /dev/null\n",
    "!wget -nc -q https://downloads.apache.org/spark/spark-3.3.1/spark-3.3.1-bin-hadoop2.tgz\n",
    "!pip install -q findspark\n",
    "!pip install pyspark"
   ]
  },
  {
   "cell_type": "code",
   "execution_count": 2,
   "id": "373be296",
   "metadata": {
    "execution": {
     "iopub.execute_input": "2023-02-15T18:30:14.293867Z",
     "iopub.status.busy": "2023-02-15T18:30:14.293276Z",
     "iopub.status.idle": "2023-02-15T18:30:14.366277Z",
     "shell.execute_reply": "2023-02-15T18:30:14.364712Z"
    },
    "id": "j1QlLs4GyyiL",
    "papermill": {
     "duration": 0.098052,
     "end_time": "2023-02-15T18:30:14.369331",
     "exception": false,
     "start_time": "2023-02-15T18:30:14.271279",
     "status": "completed"
    },
    "tags": []
   },
   "outputs": [],
   "source": [
    "import findspark\n",
    "findspark.init()\n",
    "findspark.find()\n",
    "import pyspark\n",
    "from pyspark.sql import DataFrame, SparkSession\n",
    "from typing import List\n",
    "import pyspark.sql.types as T\n",
    "import pyspark.sql.functions as F"
   ]
  },
  {
   "cell_type": "code",
   "execution_count": 3,
   "id": "0a9b71d5",
   "metadata": {
    "execution": {
     "iopub.execute_input": "2023-02-15T18:30:14.412901Z",
     "iopub.status.busy": "2023-02-15T18:30:14.412443Z",
     "iopub.status.idle": "2023-02-15T18:30:21.855296Z",
     "shell.execute_reply": "2023-02-15T18:30:21.853888Z"
    },
    "id": "20WZjBWJy01y",
    "outputId": "02eb149f-59d3-4242-fdd8-808cc0c5a803",
    "papermill": {
     "duration": 7.468006,
     "end_time": "2023-02-15T18:30:21.857877",
     "exception": false,
     "start_time": "2023-02-15T18:30:14.389871",
     "status": "completed"
    },
    "tags": []
   },
   "outputs": [
    {
     "name": "stderr",
     "output_type": "stream",
     "text": [
      "bash: /opt/conda/lib/libtinfo.so.6: no version information available (required by bash)\n",
      "bash: /opt/conda/lib/libtinfo.so.6: no version information available (required by bash)\n",
      "Setting default log level to \"WARN\".\n",
      "To adjust logging level use sc.setLogLevel(newLevel). For SparkR, use setLogLevel(newLevel).\n"
     ]
    },
    {
     "name": "stdout",
     "output_type": "stream",
     "text": [
      "23/02/15 18:30:18 WARN NativeCodeLoader: Unable to load native-hadoop library for your platform... using builtin-java classes where applicable\n"
     ]
    },
    {
     "data": {
      "text/html": [
       "\n",
       "            <div>\n",
       "                <p><b>SparkSession - in-memory</b></p>\n",
       "                \n",
       "        <div>\n",
       "            <p><b>SparkContext</b></p>\n",
       "\n",
       "            <p><a href=\"http://4886cb07a3e6:4040\">Spark UI</a></p>\n",
       "\n",
       "            <dl>\n",
       "              <dt>Version</dt>\n",
       "                <dd><code>v3.3.1</code></dd>\n",
       "              <dt>Master</dt>\n",
       "                <dd><code>local[*]</code></dd>\n",
       "              <dt>AppName</dt>\n",
       "                <dd><code>iot</code></dd>\n",
       "            </dl>\n",
       "        </div>\n",
       "        \n",
       "            </div>\n",
       "        "
      ],
      "text/plain": [
       "<pyspark.sql.session.SparkSession at 0x7fe78d24f850>"
      ]
     },
     "execution_count": 3,
     "metadata": {},
     "output_type": "execute_result"
    }
   ],
   "source": [
    "spark = SparkSession \\\n",
    "       .builder \\\n",
    "       .appName(\"iot\") \\\n",
    "       .getOrCreate()\n",
    "\n",
    "spark"
   ]
  },
  {
   "cell_type": "markdown",
   "id": "729e57f9",
   "metadata": {
    "id": "yrnHrkKpzQvc",
    "papermill": {
     "duration": 0.020943,
     "end_time": "2023-02-15T18:30:21.899758",
     "exception": false,
     "start_time": "2023-02-15T18:30:21.878815",
     "status": "completed"
    },
    "tags": []
   },
   "source": [
    "**Read the data into a Dataframe**"
   ]
  },
  {
   "cell_type": "code",
   "execution_count": 4,
   "id": "7d3b456e",
   "metadata": {
    "execution": {
     "iopub.execute_input": "2023-02-15T18:30:21.945038Z",
     "iopub.status.busy": "2023-02-15T18:30:21.943530Z",
     "iopub.status.idle": "2023-02-15T18:30:21.957393Z",
     "shell.execute_reply": "2023-02-15T18:30:21.956076Z"
    },
    "papermill": {
     "duration": 0.039966,
     "end_time": "2023-02-15T18:30:21.960662",
     "exception": false,
     "start_time": "2023-02-15T18:30:21.920696",
     "status": "completed"
    },
    "tags": []
   },
   "outputs": [
    {
     "name": "stdout",
     "output_type": "stream",
     "text": [
      "../input/iot-devices/iot_devices.json\n"
     ]
    }
   ],
   "source": [
    "import os\n",
    "for dirname, _, filenames in os.walk('../input/iot-devices'):\n",
    "    for filename in filenames:\n",
    "        print(os.path.join(dirname, filename))"
   ]
  },
  {
   "cell_type": "code",
   "execution_count": 5,
   "id": "5e94867c",
   "metadata": {
    "execution": {
     "iopub.execute_input": "2023-02-15T18:30:22.006701Z",
     "iopub.status.busy": "2023-02-15T18:30:22.005726Z",
     "iopub.status.idle": "2023-02-15T18:30:29.365660Z",
     "shell.execute_reply": "2023-02-15T18:30:29.364228Z"
    },
    "id": "IqqJ2ZxLy6r9",
    "papermill": {
     "duration": 7.386273,
     "end_time": "2023-02-15T18:30:29.369377",
     "exception": false,
     "start_time": "2023-02-15T18:30:21.983104",
     "status": "completed"
    },
    "tags": []
   },
   "outputs": [
    {
     "name": "stderr",
     "output_type": "stream",
     "text": [
      "                                                                                \r"
     ]
    }
   ],
   "source": [
    "df = spark.read.json(\"../input/iot-devices/iot_devices.json\")"
   ]
  },
  {
   "cell_type": "code",
   "execution_count": 6,
   "id": "e470419f",
   "metadata": {
    "execution": {
     "iopub.execute_input": "2023-02-15T18:30:29.418042Z",
     "iopub.status.busy": "2023-02-15T18:30:29.417565Z",
     "iopub.status.idle": "2023-02-15T18:30:29.456755Z",
     "shell.execute_reply": "2023-02-15T18:30:29.454957Z"
    },
    "id": "EhXWacU9zTih",
    "outputId": "1651fede-2e31-4f1d-8530-aaaffcd95a1b",
    "papermill": {
     "duration": 0.065737,
     "end_time": "2023-02-15T18:30:29.460386",
     "exception": false,
     "start_time": "2023-02-15T18:30:29.394649",
     "status": "completed"
    },
    "tags": []
   },
   "outputs": [
    {
     "name": "stdout",
     "output_type": "stream",
     "text": [
      "root\n",
      " |-- battery_level: long (nullable = true)\n",
      " |-- c02_level: long (nullable = true)\n",
      " |-- cca2: string (nullable = true)\n",
      " |-- cca3: string (nullable = true)\n",
      " |-- cn: string (nullable = true)\n",
      " |-- device_id: long (nullable = true)\n",
      " |-- device_name: string (nullable = true)\n",
      " |-- humidity: long (nullable = true)\n",
      " |-- ip: string (nullable = true)\n",
      " |-- latitude: double (nullable = true)\n",
      " |-- lcd: string (nullable = true)\n",
      " |-- longitude: double (nullable = true)\n",
      " |-- scale: string (nullable = true)\n",
      " |-- temp: long (nullable = true)\n",
      " |-- timestamp: long (nullable = true)\n",
      "\n"
     ]
    }
   ],
   "source": [
    "df.printSchema()"
   ]
  },
  {
   "cell_type": "code",
   "execution_count": 7,
   "id": "1dcc5cbb",
   "metadata": {
    "execution": {
     "iopub.execute_input": "2023-02-15T18:30:29.504866Z",
     "iopub.status.busy": "2023-02-15T18:30:29.504044Z",
     "iopub.status.idle": "2023-02-15T18:30:30.257424Z",
     "shell.execute_reply": "2023-02-15T18:30:30.256208Z"
    },
    "id": "cqBOiD_LzY-e",
    "outputId": "7bdf9759-8947-415c-8311-73e80af64695",
    "papermill": {
     "duration": 0.780049,
     "end_time": "2023-02-15T18:30:30.261685",
     "exception": false,
     "start_time": "2023-02-15T18:30:29.481636",
     "status": "completed"
    },
    "tags": []
   },
   "outputs": [
    {
     "name": "stdout",
     "output_type": "stream",
     "text": [
      "+-------------+---------+----+----+-------------+---------+--------------------+--------+---------------+--------+------+---------+-------+----+-------------+\n",
      "|battery_level|c02_level|cca2|cca3|           cn|device_id|         device_name|humidity|             ip|latitude|   lcd|longitude|  scale|temp|    timestamp|\n",
      "+-------------+---------+----+----+-------------+---------+--------------------+--------+---------------+--------+------+---------+-------+----+-------------+\n",
      "|            8|      868|  US| USA|United States|        1|meter-gauge-1xbYRYcj|      51|   68.161.225.1|    38.0| green|    -97.0|Celsius|  34|1458444054093|\n",
      "|            7|     1473|  NO| NOR|       Norway|        2|   sensor-pad-2n2Pea|      70|  213.161.254.1|   62.47|   red|     6.15|Celsius|  11|1458444054119|\n",
      "|            2|     1556|  IT| ITA|        Italy|        3| device-mac-36TWSKiT|      44|      88.36.5.1|   42.83|   red|    12.83|Celsius|  19|1458444054120|\n",
      "|            6|     1080|  US| USA|United States|        4|   sensor-pad-4mzWkz|      32|  66.39.173.154|   44.06|yellow|  -121.32|Celsius|  28|1458444054121|\n",
      "|            4|      931|  PH| PHL|  Philippines|        5|therm-stick-5gimp...|      62|    203.82.41.9|   14.58| green|   120.97|Celsius|  25|1458444054122|\n",
      "|            3|     1210|  US| USA|United States|        6|sensor-pad-6al7RT...|      51| 204.116.105.67|   35.93|yellow|   -85.46|Celsius|  27|1458444054122|\n",
      "|            3|     1129|  CN| CHN|        China|        7|meter-gauge-7GeDoanM|      26|  220.173.179.1|   22.82|yellow|   108.32|Celsius|  18|1458444054123|\n",
      "|            0|     1536|  JP| JPN|        Japan|        8|sensor-pad-8xUD6p...|      35|  210.173.177.1|   35.69|   red|   139.69|Celsius|  27|1458444054123|\n",
      "|            3|      807|  JP| JPN|        Japan|        9| device-mac-9GcjZ2pw|      85|  118.23.68.227|   35.69| green|   139.69|Celsius|  13|1458444054124|\n",
      "|            7|     1470|  US| USA|United States|       10|sensor-pad-10Bsyw...|      56|208.109.163.218|   33.61|   red|  -111.89|Celsius|  26|1458444054125|\n",
      "|            3|     1544|  IT| ITA|        Italy|       11|meter-gauge-11dlM...|      85|  88.213.191.34|   42.83|   red|    12.83|Celsius|  16|1458444054125|\n",
      "|            0|     1260|  US| USA|United States|       12|sensor-pad-12Y2kIm0o|      92|    68.28.91.22|    38.0|yellow|    -97.0|Celsius|  12|1458444054126|\n",
      "|            6|     1007|  IN| IND|        India|       13|meter-gauge-13Gro...|      92| 59.144.114.250|    28.6|yellow|     77.2|Celsius|  13|1458444054127|\n",
      "|            1|     1346|  NO| NOR|       Norway|       14|sensor-pad-14QL93...|      90| 193.156.90.200|   59.95|yellow|    10.75|Celsius|  16|1458444054127|\n",
      "|            9|     1259|  US| USA|United States|       15|  device-mac-15se6mZ|      70|    67.185.72.1|   47.41|yellow|   -122.0|Celsius|  13|1458444054128|\n",
      "|            4|     1425|  US| USA|United States|       16|sensor-pad-16aXmI...|      53|   68.85.85.106|    38.0|   red|    -97.0|Celsius|  15|1458444054128|\n",
      "|            0|     1466|  US| USA|United States|       17|meter-gauge-17zb8...|      98|161.188.212.254|   39.95|   red|   -75.16|Celsius|  31|1458444054129|\n",
      "|            4|     1096|  CN| CHN|        China|       18|sensor-pad-18XULN9Xv|      25|  221.3.128.242|   25.04|yellow|   102.72|Celsius|  31|1458444054130|\n",
      "|            9|     1531|  US| USA|United States|       19|meter-gauge-19eg1...|      75| 64.124.180.215|    38.0|   red|    -97.0|Celsius|  29|1458444054130|\n",
      "|            7|     1155|  US| USA|United States|       20|sensor-pad-20gFNf...|      33|  66.153.162.66|   33.94|yellow|   -78.92|Celsius|  10|1458444054131|\n",
      "+-------------+---------+----+----+-------------+---------+--------------------+--------+---------------+--------+------+---------+-------+----+-------------+\n",
      "only showing top 20 rows\n",
      "\n"
     ]
    }
   ],
   "source": [
    "df.show()"
   ]
  },
  {
   "cell_type": "markdown",
   "id": "dfdb5e6c",
   "metadata": {
    "id": "_2QH9dTkzeKr",
    "papermill": {
     "duration": 0.020639,
     "end_time": "2023-02-15T18:30:30.305103",
     "exception": false,
     "start_time": "2023-02-15T18:30:30.284464",
     "status": "completed"
    },
    "tags": []
   },
   "source": [
    "**Convert the Dataframe into a temporary view called iot**"
   ]
  },
  {
   "cell_type": "code",
   "execution_count": 8,
   "id": "76e2f840",
   "metadata": {
    "execution": {
     "iopub.execute_input": "2023-02-15T18:30:30.350235Z",
     "iopub.status.busy": "2023-02-15T18:30:30.349843Z",
     "iopub.status.idle": "2023-02-15T18:30:30.413035Z",
     "shell.execute_reply": "2023-02-15T18:30:30.411889Z"
    },
    "id": "q9kBZCmgzhlp",
    "papermill": {
     "duration": 0.089067,
     "end_time": "2023-02-15T18:30:30.416333",
     "exception": false,
     "start_time": "2023-02-15T18:30:30.327266",
     "status": "completed"
    },
    "tags": []
   },
   "outputs": [],
   "source": [
    "df.createOrReplaceTempView(\"iot\")"
   ]
  },
  {
   "cell_type": "code",
   "execution_count": 9,
   "id": "1aedd2d1",
   "metadata": {
    "execution": {
     "iopub.execute_input": "2023-02-15T18:30:30.461129Z",
     "iopub.status.busy": "2023-02-15T18:30:30.460535Z",
     "iopub.status.idle": "2023-02-15T18:30:30.807230Z",
     "shell.execute_reply": "2023-02-15T18:30:30.805606Z"
    },
    "id": "my8-PpXa_hd5",
    "outputId": "993c6853-6202-412c-9592-07afa14fcc78",
    "papermill": {
     "duration": 0.373685,
     "end_time": "2023-02-15T18:30:30.811461",
     "exception": false,
     "start_time": "2023-02-15T18:30:30.437776",
     "status": "completed"
    },
    "tags": []
   },
   "outputs": [
    {
     "name": "stdout",
     "output_type": "stream",
     "text": [
      "+-------------+---------+----+----+-------------+---------+--------------------+--------+---------------+--------+------+---------+-------+----+-------------+\n",
      "|battery_level|c02_level|cca2|cca3|           cn|device_id|         device_name|humidity|             ip|latitude|   lcd|longitude|  scale|temp|    timestamp|\n",
      "+-------------+---------+----+----+-------------+---------+--------------------+--------+---------------+--------+------+---------+-------+----+-------------+\n",
      "|            8|      868|  US| USA|United States|        1|meter-gauge-1xbYRYcj|      51|   68.161.225.1|    38.0| green|    -97.0|Celsius|  34|1458444054093|\n",
      "|            7|     1473|  NO| NOR|       Norway|        2|   sensor-pad-2n2Pea|      70|  213.161.254.1|   62.47|   red|     6.15|Celsius|  11|1458444054119|\n",
      "|            2|     1556|  IT| ITA|        Italy|        3| device-mac-36TWSKiT|      44|      88.36.5.1|   42.83|   red|    12.83|Celsius|  19|1458444054120|\n",
      "|            6|     1080|  US| USA|United States|        4|   sensor-pad-4mzWkz|      32|  66.39.173.154|   44.06|yellow|  -121.32|Celsius|  28|1458444054121|\n",
      "|            4|      931|  PH| PHL|  Philippines|        5|therm-stick-5gimp...|      62|    203.82.41.9|   14.58| green|   120.97|Celsius|  25|1458444054122|\n",
      "|            3|     1210|  US| USA|United States|        6|sensor-pad-6al7RT...|      51| 204.116.105.67|   35.93|yellow|   -85.46|Celsius|  27|1458444054122|\n",
      "|            3|     1129|  CN| CHN|        China|        7|meter-gauge-7GeDoanM|      26|  220.173.179.1|   22.82|yellow|   108.32|Celsius|  18|1458444054123|\n",
      "|            0|     1536|  JP| JPN|        Japan|        8|sensor-pad-8xUD6p...|      35|  210.173.177.1|   35.69|   red|   139.69|Celsius|  27|1458444054123|\n",
      "|            3|      807|  JP| JPN|        Japan|        9| device-mac-9GcjZ2pw|      85|  118.23.68.227|   35.69| green|   139.69|Celsius|  13|1458444054124|\n",
      "|            7|     1470|  US| USA|United States|       10|sensor-pad-10Bsyw...|      56|208.109.163.218|   33.61|   red|  -111.89|Celsius|  26|1458444054125|\n",
      "|            3|     1544|  IT| ITA|        Italy|       11|meter-gauge-11dlM...|      85|  88.213.191.34|   42.83|   red|    12.83|Celsius|  16|1458444054125|\n",
      "|            0|     1260|  US| USA|United States|       12|sensor-pad-12Y2kIm0o|      92|    68.28.91.22|    38.0|yellow|    -97.0|Celsius|  12|1458444054126|\n",
      "|            6|     1007|  IN| IND|        India|       13|meter-gauge-13Gro...|      92| 59.144.114.250|    28.6|yellow|     77.2|Celsius|  13|1458444054127|\n",
      "|            1|     1346|  NO| NOR|       Norway|       14|sensor-pad-14QL93...|      90| 193.156.90.200|   59.95|yellow|    10.75|Celsius|  16|1458444054127|\n",
      "|            9|     1259|  US| USA|United States|       15|  device-mac-15se6mZ|      70|    67.185.72.1|   47.41|yellow|   -122.0|Celsius|  13|1458444054128|\n",
      "|            4|     1425|  US| USA|United States|       16|sensor-pad-16aXmI...|      53|   68.85.85.106|    38.0|   red|    -97.0|Celsius|  15|1458444054128|\n",
      "|            0|     1466|  US| USA|United States|       17|meter-gauge-17zb8...|      98|161.188.212.254|   39.95|   red|   -75.16|Celsius|  31|1458444054129|\n",
      "|            4|     1096|  CN| CHN|        China|       18|sensor-pad-18XULN9Xv|      25|  221.3.128.242|   25.04|yellow|   102.72|Celsius|  31|1458444054130|\n",
      "|            9|     1531|  US| USA|United States|       19|meter-gauge-19eg1...|      75| 64.124.180.215|    38.0|   red|    -97.0|Celsius|  29|1458444054130|\n",
      "|            7|     1155|  US| USA|United States|       20|sensor-pad-20gFNf...|      33|  66.153.162.66|   33.94|yellow|   -78.92|Celsius|  10|1458444054131|\n",
      "+-------------+---------+----+----+-------------+---------+--------------------+--------+---------------+--------+------+---------+-------+----+-------------+\n",
      "only showing top 20 rows\n",
      "\n"
     ]
    }
   ],
   "source": [
    "df1 = spark.sql(\"SELECT * FROM iot\")\n",
    "df1.show()"
   ]
  },
  {
   "cell_type": "markdown",
   "id": "3dec8df0",
   "metadata": {
    "id": "JOwCoTNbzqax",
    "papermill": {
     "duration": 0.021,
     "end_time": "2023-02-15T18:30:30.853971",
     "exception": false,
     "start_time": "2023-02-15T18:30:30.832971",
     "status": "completed"
    },
    "tags": []
   },
   "source": [
    "**Count how many devices are there from each country and display the output**"
   ]
  },
  {
   "cell_type": "code",
   "execution_count": 10,
   "id": "c7496708",
   "metadata": {
    "execution": {
     "iopub.execute_input": "2023-02-15T18:30:30.898031Z",
     "iopub.status.busy": "2023-02-15T18:30:30.897659Z",
     "iopub.status.idle": "2023-02-15T18:30:33.802796Z",
     "shell.execute_reply": "2023-02-15T18:30:33.801635Z"
    },
    "id": "FOMGCQSnBdBD",
    "outputId": "a6da874b-7d51-4bc2-dd8a-cdf018921a18",
    "papermill": {
     "duration": 2.932639,
     "end_time": "2023-02-15T18:30:33.807860",
     "exception": false,
     "start_time": "2023-02-15T18:30:30.875221",
     "status": "completed"
    },
    "tags": []
   },
   "outputs": [
    {
     "name": "stderr",
     "output_type": "stream",
     "text": [
      "[Stage 3:>                                                          (0 + 4) / 4]\r"
     ]
    },
    {
     "name": "stdout",
     "output_type": "stream",
     "text": [
      "+--------------------+------------+\n",
      "|                  cn|no_of_device|\n",
      "+--------------------+------------+\n",
      "|                    |        1810|\n",
      "|         Afghanistan|          19|\n",
      "|             Albania|          32|\n",
      "|             Algeria|          34|\n",
      "|      American Samoa|           3|\n",
      "|             Andorra|           4|\n",
      "|              Angola|          28|\n",
      "|            Anguilla|           7|\n",
      "| Antigua and Barbuda|          60|\n",
      "|           Argentina|         978|\n",
      "|             Armenia|          34|\n",
      "|               Aruba|           8|\n",
      "|           Australia|        3119|\n",
      "|             Austria|        1462|\n",
      "|          Azerbaijan|          49|\n",
      "|             Bahamas|          18|\n",
      "|             Bahrain|          55|\n",
      "|          Bangladesh|         153|\n",
      "|            Barbados|          38|\n",
      "|             Belarus|         123|\n",
      "|             Belgium|         666|\n",
      "|              Belize|          13|\n",
      "|               Benin|           3|\n",
      "|             Bermuda|          53|\n",
      "|              Bhutan|           8|\n",
      "|             Bolivia|         108|\n",
      "|Bosnia and Herzeg...|         106|\n",
      "|            Botswana|          12|\n",
      "|              Brazil|        3224|\n",
      "|British Indian Oc...|           2|\n",
      "|British Virgin Is...|           6|\n",
      "|              Brunei|          19|\n",
      "|            Bulgaria|        1334|\n",
      "|        Burkina Faso|          24|\n",
      "|            Cambodia|          43|\n",
      "|            Cameroon|          29|\n",
      "|              Canada|        6041|\n",
      "|      Cayman Islands|          26|\n",
      "|               Chile|         371|\n",
      "|               China|       14455|\n",
      "|            Colombia|         423|\n",
      "|               Congo|           8|\n",
      "|        Cook Islands|           3|\n",
      "|          Costa Rica|         116|\n",
      "|             Croatia|         193|\n",
      "|                Cuba|          15|\n",
      "|             Curaçao|          36|\n",
      "|              Cyprus|          93|\n",
      "|      Czech Republic|        1507|\n",
      "|             Denmark|        1190|\n",
      "+--------------------+------------+\n",
      "only showing top 50 rows\n",
      "\n"
     ]
    },
    {
     "name": "stderr",
     "output_type": "stream",
     "text": [
      "                                                                                \r"
     ]
    }
   ],
   "source": [
    "spark.sql(\"SELECT cn, COUNT (device_name) AS no_of_device FROM iot GROUP BY cn ORDER BY cn\").show(50)"
   ]
  },
  {
   "cell_type": "code",
   "execution_count": 11,
   "id": "3b2e3e58",
   "metadata": {
    "execution": {
     "iopub.execute_input": "2023-02-15T18:30:33.873616Z",
     "iopub.status.busy": "2023-02-15T18:30:33.873180Z",
     "iopub.status.idle": "2023-02-15T18:30:36.759348Z",
     "shell.execute_reply": "2023-02-15T18:30:36.757498Z"
    },
    "id": "aYQGdQRdSqHo",
    "outputId": "65d642eb-528d-4be1-c17a-f1a1933b1720",
    "papermill": {
     "duration": 2.922017,
     "end_time": "2023-02-15T18:30:36.763116",
     "exception": false,
     "start_time": "2023-02-15T18:30:33.841099",
     "status": "completed"
    },
    "tags": []
   },
   "outputs": [
    {
     "name": "stderr",
     "output_type": "stream",
     "text": [
      "[Stage 6:============================================>              (3 + 1) / 4]\r"
     ]
    },
    {
     "name": "stdout",
     "output_type": "stream",
     "text": [
      "+----+---------+\n",
      "|cca3|device_id|\n",
      "+----+---------+\n",
      "| USA|    70405|\n",
      "| CHN|    14455|\n",
      "| JPN|    12100|\n",
      "| KOR|    11879|\n",
      "| DEU|     7942|\n",
      "| GBR|     6486|\n",
      "| CAN|     6041|\n",
      "| RUS|     5989|\n",
      "| FRA|     5305|\n",
      "| BRA|     3224|\n",
      "| AUS|     3119|\n",
      "| ITA|     2915|\n",
      "| SWE|     2880|\n",
      "| POL|     2744|\n",
      "| NLD|     2488|\n",
      "| ESP|     2310|\n",
      "| TWN|     2128|\n",
      "| IND|     1867|\n",
      "| CZE|     1507|\n",
      "| NOR|     1487|\n",
      "+----+---------+\n",
      "only showing top 20 rows\n",
      "\n"
     ]
    },
    {
     "name": "stderr",
     "output_type": "stream",
     "text": [
      "                                                                                \r"
     ]
    }
   ],
   "source": [
    "spark.sql(\"select cca3, count(distinct device_id) as device_id from iot group by cca3 order by device_id desc limit 100\").show()"
   ]
  },
  {
   "cell_type": "markdown",
   "id": "229d22c7",
   "metadata": {
    "id": "mSqsMmI3zz0L",
    "papermill": {
     "duration": 0.032741,
     "end_time": "2023-02-15T18:30:36.829743",
     "exception": false,
     "start_time": "2023-02-15T18:30:36.797002",
     "status": "completed"
    },
    "tags": []
   },
   "source": [
    "**Display all the countries whose carbon dioxide level is more than 1400. Sort the output in descending order.**"
   ]
  },
  {
   "cell_type": "code",
   "execution_count": 12,
   "id": "5ad4395d",
   "metadata": {
    "execution": {
     "iopub.execute_input": "2023-02-15T18:30:36.895947Z",
     "iopub.status.busy": "2023-02-15T18:30:36.895374Z",
     "iopub.status.idle": "2023-02-15T18:30:38.380788Z",
     "shell.execute_reply": "2023-02-15T18:30:38.379490Z"
    },
    "id": "Wu1wHU0hUQcR",
    "outputId": "cd97afab-f218-4f8d-d8c1-46b0b58bf7e0",
    "papermill": {
     "duration": 1.525618,
     "end_time": "2023-02-15T18:30:38.387414",
     "exception": false,
     "start_time": "2023-02-15T18:30:36.861796",
     "status": "completed"
    },
    "tags": []
   },
   "outputs": [
    {
     "name": "stderr",
     "output_type": "stream",
     "text": [
      "[Stage 12:>                                                         (0 + 4) / 4]\r"
     ]
    },
    {
     "name": "stdout",
     "output_type": "stream",
     "text": [
      "+----+---------+\n",
      "|cca3|c02_level|\n",
      "+----+---------+\n",
      "| BRA|     1599|\n",
      "| USA|     1599|\n",
      "| USA|     1599|\n",
      "| USA|     1599|\n",
      "| USA|     1599|\n",
      "| USA|     1599|\n",
      "| CZE|     1599|\n",
      "| USA|     1599|\n",
      "| USA|     1599|\n",
      "| UKR|     1599|\n",
      "| RUS|     1599|\n",
      "| IRL|     1599|\n",
      "| CHN|     1599|\n",
      "| USA|     1599|\n",
      "| USA|     1599|\n",
      "| RUS|     1599|\n",
      "| UKR|     1599|\n",
      "| CHN|     1599|\n",
      "| KOR|     1599|\n",
      "| USA|     1599|\n",
      "+----+---------+\n",
      "only showing top 20 rows\n",
      "\n"
     ]
    },
    {
     "name": "stderr",
     "output_type": "stream",
     "text": [
      "                                                                                \r"
     ]
    }
   ],
   "source": [
    "spark.sql(\"select cca3, c02_level from iot where c02_level > 1400 order by c02_level desc\").show()"
   ]
  },
  {
   "cell_type": "code",
   "execution_count": 13,
   "id": "8fc0a4de",
   "metadata": {
    "execution": {
     "iopub.execute_input": "2023-02-15T18:30:38.434680Z",
     "iopub.status.busy": "2023-02-15T18:30:38.434264Z",
     "iopub.status.idle": "2023-02-15T18:30:39.039120Z",
     "shell.execute_reply": "2023-02-15T18:30:39.037924Z"
    },
    "id": "U3ePTDOPz7az",
    "outputId": "3128bb3c-163e-4017-8b8d-7de3f3780758",
    "papermill": {
     "duration": 0.632721,
     "end_time": "2023-02-15T18:30:39.042947",
     "exception": false,
     "start_time": "2023-02-15T18:30:38.410226",
     "status": "completed"
    },
    "tags": []
   },
   "outputs": [
    {
     "name": "stdout",
     "output_type": "stream",
     "text": [
      "+-----------------+---------+\n",
      "|               cn|c02_level|\n",
      "+-----------------+---------+\n",
      "|           Brazil|     1599|\n",
      "|    United States|     1599|\n",
      "|    United States|     1599|\n",
      "|    United States|     1599|\n",
      "|    United States|     1599|\n",
      "|    United States|     1599|\n",
      "|   Czech Republic|     1599|\n",
      "|    United States|     1599|\n",
      "|    United States|     1599|\n",
      "|          Ukraine|     1599|\n",
      "|           Russia|     1599|\n",
      "|          Ireland|     1599|\n",
      "|            China|     1599|\n",
      "|    United States|     1599|\n",
      "|    United States|     1599|\n",
      "|           Russia|     1599|\n",
      "|          Ukraine|     1599|\n",
      "|            China|     1599|\n",
      "|Republic of Korea|     1599|\n",
      "|    United States|     1599|\n",
      "+-----------------+---------+\n",
      "only showing top 20 rows\n",
      "\n"
     ]
    }
   ],
   "source": [
    "spark.sql(\"SELECT cn,c02_level FROM iot WHERE c02_level > 1400 ORDER BY c02_level DESC\").show()"
   ]
  },
  {
   "cell_type": "markdown",
   "id": "6b34b58e",
   "metadata": {
    "id": "NIOpdpG2z5sc",
    "papermill": {
     "duration": 0.021976,
     "end_time": "2023-02-15T18:30:39.088243",
     "exception": false,
     "start_time": "2023-02-15T18:30:39.066267",
     "status": "completed"
    },
    "tags": []
   },
   "source": [
    "**Select all countries' devices with high-levels of C02 and group by cca3 and order by device_ids (Hint: For high CO2 level, the LCD status will be RED).**"
   ]
  },
  {
   "cell_type": "code",
   "execution_count": 14,
   "id": "236159a1",
   "metadata": {
    "execution": {
     "iopub.execute_input": "2023-02-15T18:30:39.134950Z",
     "iopub.status.busy": "2023-02-15T18:30:39.134494Z",
     "iopub.status.idle": "2023-02-15T18:30:40.713165Z",
     "shell.execute_reply": "2023-02-15T18:30:40.711473Z"
    },
    "id": "tLEFGSdSz4V2",
    "outputId": "776471a1-38ab-4147-80c9-a890832fdd4e",
    "papermill": {
     "duration": 1.60703,
     "end_time": "2023-02-15T18:30:40.717988",
     "exception": false,
     "start_time": "2023-02-15T18:30:39.110958",
     "status": "completed"
    },
    "tags": []
   },
   "outputs": [
    {
     "name": "stderr",
     "output_type": "stream",
     "text": [
      "[Stage 14:==============>                                           (1 + 3) / 4]\r"
     ]
    },
    {
     "name": "stdout",
     "output_type": "stream",
     "text": [
      "+----+---------+\n",
      "|cca3|device_id|\n",
      "+----+---------+\n",
      "| TJK|        1|\n",
      "| REU|        1|\n",
      "| TKM|        1|\n",
      "| GIB|        1|\n",
      "| CIV|        1|\n",
      "| LBR|        1|\n",
      "| MHL|        1|\n",
      "| SLB|        1|\n",
      "| GAB|        1|\n",
      "| TLS|        1|\n",
      "| IOT|        1|\n",
      "| GGY|        1|\n",
      "| FSM|        1|\n",
      "| AND|        1|\n",
      "| FLK|        1|\n",
      "| VUT|        2|\n",
      "| ZMB|        2|\n",
      "| LCA|        2|\n",
      "| GMB|        2|\n",
      "| VCT|        2|\n",
      "+----+---------+\n",
      "only showing top 20 rows\n",
      "\n"
     ]
    },
    {
     "name": "stderr",
     "output_type": "stream",
     "text": [
      "                                                                                \r"
     ]
    }
   ],
   "source": [
    "spark.sql(\"select cca3, count(distinct device_id) as device_id from iot where lcd == 'red' group by cca3 order by device_id\").show()"
   ]
  },
  {
   "cell_type": "code",
   "execution_count": 15,
   "id": "77c114ca",
   "metadata": {
    "execution": {
     "iopub.execute_input": "2023-02-15T18:30:40.787263Z",
     "iopub.status.busy": "2023-02-15T18:30:40.786878Z",
     "iopub.status.idle": "2023-02-15T18:30:40.971359Z",
     "shell.execute_reply": "2023-02-15T18:30:40.970098Z"
    },
    "id": "Z2x0C7DlQMcX",
    "outputId": "4a3ef9e1-0eab-4233-8934-be642459f632",
    "papermill": {
     "duration": 0.224236,
     "end_time": "2023-02-15T18:30:40.977004",
     "exception": false,
     "start_time": "2023-02-15T18:30:40.752768",
     "status": "completed"
    },
    "tags": []
   },
   "outputs": [
    {
     "name": "stdout",
     "output_type": "stream",
     "text": [
      "+-----------------+--------------------+---------+---+\n",
      "|               cn|         device_name|c02_level|lcd|\n",
      "+-----------------+--------------------+---------+---+\n",
      "|           Norway|   sensor-pad-2n2Pea|     1473|red|\n",
      "|            Italy| device-mac-36TWSKiT|     1556|red|\n",
      "|            Japan|sensor-pad-8xUD6p...|     1536|red|\n",
      "|    United States|sensor-pad-10Bsyw...|     1470|red|\n",
      "|            Italy|meter-gauge-11dlM...|     1544|red|\n",
      "|    United States|sensor-pad-16aXmI...|     1425|red|\n",
      "|    United States|meter-gauge-17zb8...|     1466|red|\n",
      "|    United States|meter-gauge-19eg1...|     1531|red|\n",
      "|            Japan|  sensor-pad-22oWV2D|     1522|red|\n",
      "|           Canada|sensor-pad-24Pytz...|     1511|red|\n",
      "|Republic of Korea|  device-mac-27P5wf2|     1597|red|\n",
      "|Republic of Korea|sensor-pad-28Tsud...|     1502|red|\n",
      "|          Ukraine|meter-gauge-47WsF9s8|     1454|red|\n",
      "|           Sweden|meter-gauge-534fD...|     1446|red|\n",
      "|    United States|sensor-pad-5410CW...|     1436|red|\n",
      "|    United States|device-mac-57tRB0...|     1503|red|\n",
      "|    United States|  sensor-pad-64djcIn|     1524|red|\n",
      "|   Czech Republic|sensor-pad-663dzo...|     1482|red|\n",
      "|            India|meter-gauge-77IKW...|     1454|red|\n",
      "|Republic of Korea|sensor-pad-78PkeI...|     1493|red|\n",
      "+-----------------+--------------------+---------+---+\n",
      "only showing top 20 rows\n",
      "\n"
     ]
    }
   ],
   "source": [
    "spark.sql(\"SELECT cn,device_name,c02_level,lcd FROM iot WHERE lcd == 'red' \").show()"
   ]
  },
  {
   "cell_type": "markdown",
   "id": "c65f1e67",
   "metadata": {
    "id": "MBUo10sq0BFJ",
    "papermill": {
     "duration": 0.022321,
     "end_time": "2023-02-15T18:30:41.023469",
     "exception": false,
     "start_time": "2023-02-15T18:30:41.001148",
     "status": "completed"
    },
    "tags": []
   },
   "source": [
    "**Find out all devices in countries whose batteries need replacements.**"
   ]
  },
  {
   "cell_type": "code",
   "execution_count": 16,
   "id": "fc915cb8",
   "metadata": {
    "execution": {
     "iopub.execute_input": "2023-02-15T18:30:41.069962Z",
     "iopub.status.busy": "2023-02-15T18:30:41.069485Z",
     "iopub.status.idle": "2023-02-15T18:30:42.337836Z",
     "shell.execute_reply": "2023-02-15T18:30:42.336698Z"
    },
    "id": "Mazi6YAPT5E8",
    "outputId": "7934354c-9d6a-469b-b0ba-70dbc9e83e66",
    "papermill": {
     "duration": 1.304034,
     "end_time": "2023-02-15T18:30:42.349861",
     "exception": false,
     "start_time": "2023-02-15T18:30:41.045827",
     "status": "completed"
    },
    "tags": []
   },
   "outputs": [
    {
     "name": "stderr",
     "output_type": "stream",
     "text": [
      "[Stage 21:===========================================>              (3 + 1) / 4]\r"
     ]
    },
    {
     "name": "stdout",
     "output_type": "stream",
     "text": [
      "+----+---------+\n",
      "|cca3|device_id|\n",
      "+----+---------+\n",
      "| USA|     7043|\n",
      "| CHN|     1415|\n",
      "| KOR|     1217|\n",
      "| JPN|     1210|\n",
      "| DEU|      760|\n",
      "| GBR|      650|\n",
      "| CAN|      612|\n",
      "| RUS|      600|\n",
      "| FRA|      582|\n",
      "| BRA|      374|\n",
      "| AUS|      322|\n",
      "| SWE|      293|\n",
      "| ITA|      287|\n",
      "| POL|      278|\n",
      "| NLD|      251|\n",
      "| ESP|      223|\n",
      "| TWN|      207|\n",
      "| IND|      189|\n",
      "| UKR|      149|\n",
      "| HKG|      149|\n",
      "+----+---------+\n",
      "only showing top 20 rows\n",
      "\n"
     ]
    },
    {
     "name": "stderr",
     "output_type": "stream",
     "text": [
      "                                                                                \r"
     ]
    }
   ],
   "source": [
    "spark.sql(\"select cca3, count(distinct device_id) as device_id from iot where battery_level == 0 group by cca3 order by device_id desc limit 100\").show()"
   ]
  },
  {
   "cell_type": "code",
   "execution_count": 17,
   "id": "93a8a6af",
   "metadata": {
    "execution": {
     "iopub.execute_input": "2023-02-15T18:30:42.414563Z",
     "iopub.status.busy": "2023-02-15T18:30:42.414019Z",
     "iopub.status.idle": "2023-02-15T18:30:42.594224Z",
     "shell.execute_reply": "2023-02-15T18:30:42.593214Z"
    },
    "id": "xdFJhuK50D2P",
    "outputId": "81b679c4-e73b-4a44-d952-fe73d4c870f5",
    "papermill": {
     "duration": 0.211551,
     "end_time": "2023-02-15T18:30:42.597003",
     "exception": false,
     "start_time": "2023-02-15T18:30:42.385452",
     "status": "completed"
    },
    "tags": []
   },
   "outputs": [
    {
     "name": "stdout",
     "output_type": "stream",
     "text": [
      "+-----------------+--------------------+-------------+\n",
      "|               cn|         device_name|battery_level|\n",
      "+-----------------+--------------------+-------------+\n",
      "|            Japan|sensor-pad-8xUD6p...|            0|\n",
      "|    United States|sensor-pad-12Y2kIm0o|            0|\n",
      "|    United States|meter-gauge-17zb8...|            0|\n",
      "|          Germany| sensor-pad-448DeWGL|            0|\n",
      "|           Canada|sensor-pad-80TY4d...|            0|\n",
      "|Republic of Korea| sensor-pad-92vxuq7e|            0|\n",
      "|    United States|sensor-pad-98mJQA...|            0|\n",
      "|            Japan|meter-gauge-1075K...|            0|\n",
      "|        Australia|device-mac-111WYt...|            0|\n",
      "|    United States| sensor-pad-11663yUf|            0|\n",
      "|            China|device-mac-117mcc...|            0|\n",
      "|    United States|device-mac-123zvY...|            0|\n",
      "|    United States|meter-gauge-131Lb...|            0|\n",
      "|    United States|sensor-pad-1344UG...|            0|\n",
      "|          Germany|sensor-pad-140tq1s6t|            0|\n",
      "|            China|meter-gauge-151Gj...|            0|\n",
      "|            China|sensor-pad-156nfj...|            0|\n",
      "|    United States|meter-gauge-167c4...|            0|\n",
      "|    United States|meter-gauge-1794X...|            0|\n",
      "|     South Africa|sensor-pad-180lj1...|            0|\n",
      "+-----------------+--------------------+-------------+\n",
      "only showing top 20 rows\n",
      "\n"
     ]
    }
   ],
   "source": [
    "spark.sql(\"SELECT cn,device_name,battery_level FROM iot WHERE battery_level == 0\").show()"
   ]
  }
 ],
 "metadata": {
  "kernelspec": {
   "display_name": "Python 3",
   "language": "python",
   "name": "python3"
  },
  "language_info": {
   "codemirror_mode": {
    "name": "ipython",
    "version": 3
   },
   "file_extension": ".py",
   "mimetype": "text/x-python",
   "name": "python",
   "nbconvert_exporter": "python",
   "pygments_lexer": "ipython3",
   "version": "3.7.12"
  },
  "papermill": {
   "default_parameters": {},
   "duration": 137.862085,
   "end_time": "2023-02-15T18:30:45.241367",
   "environment_variables": {},
   "exception": null,
   "input_path": "__notebook__.ipynb",
   "output_path": "__notebook__.ipynb",
   "parameters": {},
   "start_time": "2023-02-15T18:28:27.379282",
   "version": "2.3.4"
  }
 },
 "nbformat": 4,
 "nbformat_minor": 5
}
